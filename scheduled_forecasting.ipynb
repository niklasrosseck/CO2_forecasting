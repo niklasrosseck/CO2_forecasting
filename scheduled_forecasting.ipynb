{
 "cells": [
  {
   "cell_type": "code",
   "execution_count": 1,
   "metadata": {},
   "outputs": [
    {
     "name": "stdout",
     "output_type": "stream",
     "text": [
      "Data fetched and saved at Mon Dec 16 10:28:19 2024\n"
     ]
    }
   ],
   "source": [
    "import requests\n",
    "import pandas as pd\n",
    "from apscheduler.schedulers.background import BackgroundScheduler\n",
    "import time\n",
    "import os\n",
    "\n",
    "url = \"https://recoglass.net/api/get.php?key=SPXEGN1TGSB2IKT9&merge=10min&ls=0&le=5000&ext=json\"\n",
    "max_entries = 10000  \n",
    "\n",
    "def fetch_data():\n",
    "    try:\n",
    "        response = requests.get(url)\n",
    "        response.raise_for_status()\n",
    "        data = response.json()\n",
    "        df = pd.DataFrame(data)\n",
    "\n",
    "        \n",
    "        df.drop_duplicates(inplace=True)\n",
    "\n",
    "        \n",
    "        if os.path.exists('real_time_co2_data.csv'):\n",
    "            existing_df = pd.read_csv('real_time_co2_data.csv')\n",
    "\n",
    "            \n",
    "            last_timestamp = existing_df['datetime'].max() if 'datetime' in existing_df.columns else None\n",
    "\n",
    "            \n",
    "            if last_timestamp:\n",
    "                df = df[df['datetime'] > last_timestamp]\n",
    "\n",
    "            \n",
    "            new_df = pd.concat([df, existing_df])\n",
    "\n",
    "            \n",
    "            if len(new_df) > max_entries:\n",
    "                new_df = new_df.tail(max_entries)\n",
    "\n",
    "            \n",
    "            new_df.to_csv('real_time_co2_data.csv', index=False)\n",
    "        else:\n",
    "           \n",
    "            df.to_csv('real_time_co2_data.csv', index=False)\n",
    "\n",
    "        print(f\"Data fetched and saved at {time.ctime()}\")\n",
    "    except Exception as e:\n",
    "        print(f\"Error fetching data: {e}\")\n",
    "\n",
    "scheduler = BackgroundScheduler()\n",
    "scheduler.add_job(fetch_data, 'interval', minutes=10)\n",
    "scheduler.start()\n",
    "\n",
    "try:\n",
    "    while True:\n",
    "        time.sleep(2)\n",
    "except (KeyboardInterrupt, SystemExit):\n",
    "    scheduler.shutdown()\n"
   ]
  }
 ],
 "metadata": {
  "kernelspec": {
   "display_name": "Python 3",
   "language": "python",
   "name": "python3"
  },
  "language_info": {
   "codemirror_mode": {
    "name": "ipython",
    "version": 3
   },
   "file_extension": ".py",
   "mimetype": "text/x-python",
   "name": "python",
   "nbconvert_exporter": "python",
   "pygments_lexer": "ipython3",
   "version": "3.12.8"
  }
 },
 "nbformat": 4,
 "nbformat_minor": 2
}
